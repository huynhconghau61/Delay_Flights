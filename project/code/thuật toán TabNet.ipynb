{
 "cells": [
  {
   "cell_type": "markdown",
   "metadata": {},
   "source": [
    "Bước 1: Nhập các Thư Viện Cần Thiết"
   ]
  },
  {
   "cell_type": "code",
   "execution_count": 1,
   "metadata": {},
   "outputs": [],
   "source": [
    "import numpy as np\n",
    "import pandas as pd\n",
    "from sklearn.model_selection import train_test_split\n",
    "from sklearn.metrics import mean_absolute_error, mean_squared_error, r2_score\n",
    "from pytorch_tabnet.tab_model import TabNetRegressor\n",
    "import torch\n"
   ]
  },
  {
   "cell_type": "markdown",
   "metadata": {},
   "source": [
    "Bước 2: Chuẩn bị Dữ liệu"
   ]
  },
  {
   "cell_type": "code",
   "execution_count": 2,
   "metadata": {},
   "outputs": [
    {
     "name": "stderr",
     "output_type": "stream",
     "text": [
      "C:\\Users\\Huynh Hau\\AppData\\Local\\Temp\\ipykernel_19392\\4284941557.py:1: DtypeWarning: Columns (7,8) have mixed types. Specify dtype option on import or set low_memory=False.\n",
      "  flights = pd.read_csv('../data/flights.csv')\n"
     ]
    }
   ],
   "source": [
    "flights = pd.read_csv('../data/flights.csv')\n",
    "flights=flights.sample(n=100000)"
   ]
  },
  {
   "cell_type": "code",
   "execution_count": 3,
   "metadata": {},
   "outputs": [
    {
     "data": {
      "text/plain": [
       "Index(['MONTH', 'DAY', 'DAY_OF_WEEK', 'AIRLINE', 'ORIGIN_AIRPORT',\n",
       "       'DESTINATION_AIRPORT', 'SCHEDULED_DEPARTURE', 'DEPARTURE_DELAY',\n",
       "       'DISTANCE', 'ARRIVAL_DELAY'],\n",
       "      dtype='object')"
      ]
     },
     "execution_count": 3,
     "metadata": {},
     "output_type": "execute_result"
    }
   ],
   "source": [
    "variables_to_remove=[\"YEAR\",\"FLIGHT_NUMBER\",\"TAIL_NUMBER\",\"DEPARTURE_TIME\",\"TAXI_OUT\",\"WHEELS_OFF\",\"ELAPSED_TIME\",\"AIR_TIME\",\"WHEELS_ON\",\"TAXI_IN\",\"ARRIVAL_TIME\",\"DIVERTED\",\"CANCELLED\",\"CANCELLATION_REASON\",\"AIR_SYSTEM_DELAY\", \"SECURITY_DELAY\",\"AIRLINE_DELAY\",\"LATE_AIRCRAFT_DELAY\",\"WEATHER_DELAY\",\"SCHEDULED_TIME\",\"SCHEDULED_ARRIVAL\"]\n",
    "flights.drop(variables_to_remove,axis=1,inplace= True)\n",
    "flights.columns"
   ]
  },
  {
   "cell_type": "code",
   "execution_count": 4,
   "metadata": {},
   "outputs": [],
   "source": [
    "# Đọc dữ liệu aiports.csv\n",
    "airport = pd.read_csv('../data/airports.csv')"
   ]
  },
  {
   "cell_type": "code",
   "execution_count": 5,
   "metadata": {},
   "outputs": [],
   "source": [
    "flights.loc[~flights.ORIGIN_AIRPORT.isin(airport.IATA_CODE.values),'ORIGIN_AIRPORT']='OTHER'\n",
    "flights.loc[~flights.DESTINATION_AIRPORT.isin(airport.IATA_CODE.values),'DESTINATION_AIRPORT']='OTHER'"
   ]
  },
  {
   "cell_type": "code",
   "execution_count": 6,
   "metadata": {},
   "outputs": [],
   "source": [
    "flights=flights.dropna() # xóa giá trị NaN"
   ]
  },
  {
   "cell_type": "code",
   "execution_count": 7,
   "metadata": {},
   "outputs": [],
   "source": [
    "# tiền xử lý dữ liệu thay thế các ngày tương ứng\n",
    "df=pd.DataFrame(flights)\n",
    "df['DAY_OF_WEEK']= df['DAY_OF_WEEK'].apply(str)\n",
    "df[\"DAY_OF_WEEK\"].replace({\"1\":\"SUNDAY\", \"2\": \"MONDAY\", \"3\": \"TUESDAY\", \"4\":\"WEDNESDAY\", \"5\":\"THURSDAY\", \"6\":\"FRIDAY\", \"7\":\"SATURDAY\"},inplace=True)"
   ]
  },
  {
   "cell_type": "code",
   "execution_count": 8,
   "metadata": {},
   "outputs": [],
   "source": [
    "dums = ['AIRLINE','ORIGIN_AIRPORT','DESTINATION_AIRPORT','DAY_OF_WEEK']\n",
    "df_cat=pd.get_dummies(df[dums],drop_first=True,dtype=int)"
   ]
  },
  {
   "cell_type": "code",
   "execution_count": 9,
   "metadata": {},
   "outputs": [],
   "source": [
    "var_to_remove=[\"DAY_OF_WEEK\",\"AIRLINE\",\"ORIGIN_AIRPORT\",\"DESTINATION_AIRPORT\"]\n",
    "df.drop(var_to_remove,axis=1,inplace=True)"
   ]
  },
  {
   "cell_type": "code",
   "execution_count": 10,
   "metadata": {},
   "outputs": [],
   "source": [
    "data=pd.concat([df,df_cat],axis=1)"
   ]
  },
  {
   "cell_type": "code",
   "execution_count": 11,
   "metadata": {},
   "outputs": [],
   "source": [
    "X = data.drop('DEPARTURE_DELAY', axis=1)\n",
    "Y = data['DEPARTURE_DELAY']\n",
    "X_train, X_test, y_train, y_test = train_test_split(X, Y, test_size=0.2, random_state=42)\n"
   ]
  },
  {
   "cell_type": "markdown",
   "metadata": {},
   "source": [
    "Bước 3: Định dạng lại dữ liệu mục tiêu cho phù hợp với yêu cầu TabNet"
   ]
  },
  {
   "cell_type": "code",
   "execution_count": 12,
   "metadata": {},
   "outputs": [],
   "source": [
    "y_train = y_train.values.reshape(-1, 1)\n",
    "y_test = y_test.values.reshape(-1, 1)\n"
   ]
  },
  {
   "cell_type": "markdown",
   "metadata": {},
   "source": [
    "Bước 4: Khởi tạo và Huấn luyện Mô hình TabNet"
   ]
  },
  {
   "cell_type": "code",
   "execution_count": 13,
   "metadata": {},
   "outputs": [
    {
     "name": "stderr",
     "output_type": "stream",
     "text": [
      "c:\\Users\\Huynh Hau\\AppData\\Local\\Programs\\Python\\Python311\\Lib\\site-packages\\pytorch_tabnet\\abstract_model.py:82: UserWarning: Device used : cpu\n",
      "  warnings.warn(f\"Device used : {self.device}\")\n"
     ]
    }
   ],
   "source": [
    "# Khởi tạo mô hình TabNetRegressor\n",
    "model = TabNetRegressor(optimizer_fn=torch.optim.Adam,\n",
    "                        optimizer_params=dict(lr=0.02),\n",
    "                        scheduler_params={\"step_size\":10, \"gamma\":0.9},\n",
    "                        scheduler_fn=torch.optim.lr_scheduler.StepLR)"
   ]
  },
  {
   "cell_type": "code",
   "execution_count": 14,
   "metadata": {},
   "outputs": [
    {
     "name": "stdout",
     "output_type": "stream",
     "text": [
      "epoch 0  | loss: 876.84593| test_mae: 8.15766 | test_rmse: 13.98941| test_mse: 195.7036|  0:00:37s\n",
      "epoch 1  | loss: 280.47017| test_mae: 8.08657 | test_rmse: 13.02075| test_mse: 169.54001|  0:01:13s\n",
      "epoch 2  | loss: 320.12166| test_mae: 8.2239  | test_rmse: 13.4835 | test_mse: 181.80477|  0:01:52s\n",
      "epoch 3  | loss: 320.33221| test_mae: 7.48663 | test_rmse: 11.05019| test_mse: 122.10662|  0:02:36s\n",
      "epoch 4  | loss: 221.31714| test_mae: 7.48886 | test_rmse: 10.78343| test_mse: 116.28228|  0:03:21s\n",
      "epoch 5  | loss: 177.29139| test_mae: 7.22455 | test_rmse: 10.50927| test_mse: 110.44467|  0:04:05s\n",
      "epoch 6  | loss: 160.6365| test_mae: 7.5044  | test_rmse: 11.27602| test_mse: 127.1486|  0:04:50s\n",
      "epoch 7  | loss: 147.06896| test_mae: 7.96041 | test_rmse: 12.56783| test_mse: 157.95036|  0:05:37s\n",
      "epoch 8  | loss: 150.90709| test_mae: 7.45517 | test_rmse: 10.86721| test_mse: 118.09619|  0:06:22s\n",
      "epoch 9  | loss: 159.11408| test_mae: 7.66782 | test_rmse: 11.78614| test_mse: 138.91313|  0:07:07s\n",
      "Stop training because you reached max_epochs = 10 with best_epoch = 5 and best_test_mse = 110.44467\n"
     ]
    },
    {
     "name": "stderr",
     "output_type": "stream",
     "text": [
      "c:\\Users\\Huynh Hau\\AppData\\Local\\Programs\\Python\\Python311\\Lib\\site-packages\\pytorch_tabnet\\callbacks.py:172: UserWarning: Best weights from best epoch are automatically used!\n",
      "  warnings.warn(wrn_msg)\n"
     ]
    }
   ],
   "source": [
    "model.fit(\n",
    "    X_train.values, y_train,\n",
    "    eval_set=[(X_test.values, y_test)],\n",
    "    eval_name=['test'],\n",
    "    eval_metric=['mae', 'rmse','mse'],\n",
    "    max_epochs=10,\n",
    "    patience=10,\n",
    "    batch_size=1024, \n",
    "    virtual_batch_size=128,\n",
    "    num_workers=0,\n",
    "    drop_last=False\n",
    ")"
   ]
  },
  {
   "cell_type": "markdown",
   "metadata": {},
   "source": [
    "Bước 5: Dự đoán trên tập kiểm tra"
   ]
  },
  {
   "cell_type": "code",
   "execution_count": 15,
   "metadata": {},
   "outputs": [],
   "source": [
    "p = model.predict(X_test.values)"
   ]
  },
  {
   "cell_type": "markdown",
   "metadata": {},
   "source": []
  },
  {
   "cell_type": "code",
   "execution_count": 16,
   "metadata": {},
   "outputs": [
    {
     "name": "stdout",
     "output_type": "stream",
     "text": [
      "R-squared: 0.909154287605707\n",
      "RMSE: 10.50926591619011\n",
      "MSE: 110.44467009719513\n",
      "MAE: 7.224551809469061\n"
     ]
    },
    {
     "name": "stderr",
     "output_type": "stream",
     "text": [
      "c:\\Users\\Huynh Hau\\AppData\\Local\\Programs\\Python\\Python311\\Lib\\site-packages\\sklearn\\metrics\\_regression.py:483: FutureWarning: 'squared' is deprecated in version 1.4 and will be removed in 1.6. To calculate the root mean squared error, use the function'root_mean_squared_error'.\n",
      "  warnings.warn(\n",
      "c:\\Users\\Huynh Hau\\AppData\\Local\\Programs\\Python\\Python311\\Lib\\site-packages\\sklearn\\metrics\\_regression.py:483: FutureWarning: 'squared' is deprecated in version 1.4 and will be removed in 1.6. To calculate the root mean squared error, use the function'root_mean_squared_error'.\n",
      "  warnings.warn(\n"
     ]
    }
   ],
   "source": [
    "r2 = r2_score(y_test, p)\n",
    "rmse = mean_squared_error(y_test, p, squared=False)\n",
    "mse = mean_squared_error(y_test, p, squared=True)\n",
    "mae = mean_absolute_error(y_test, p)\n",
    "\n",
    "print(f'R-squared: {r2}')\n",
    "print(f'RMSE: {rmse}')\n",
    "print(f'MSE: {mse}')\n",
    "print(f'MAE: {mae}')\n"
   ]
  },
  {
   "cell_type": "code",
   "execution_count": 18,
   "metadata": {},
   "outputs": [
    {
     "data": {
      "text/html": [
       "<div>\n",
       "<style scoped>\n",
       "    .dataframe tbody tr th:only-of-type {\n",
       "        vertical-align: middle;\n",
       "    }\n",
       "\n",
       "    .dataframe tbody tr th {\n",
       "        vertical-align: top;\n",
       "    }\n",
       "\n",
       "    .dataframe thead th {\n",
       "        text-align: right;\n",
       "    }\n",
       "</style>\n",
       "<table border=\"1\" class=\"dataframe\">\n",
       "  <thead>\n",
       "    <tr style=\"text-align: right;\">\n",
       "      <th></th>\n",
       "      <th>Actual</th>\n",
       "      <th>Predicted</th>\n",
       "    </tr>\n",
       "  </thead>\n",
       "  <tbody>\n",
       "    <tr>\n",
       "      <th>0</th>\n",
       "      <td>24.0</td>\n",
       "      <td>38.790401</td>\n",
       "    </tr>\n",
       "    <tr>\n",
       "      <th>1</th>\n",
       "      <td>3.0</td>\n",
       "      <td>0.402541</td>\n",
       "    </tr>\n",
       "    <tr>\n",
       "      <th>2</th>\n",
       "      <td>-2.0</td>\n",
       "      <td>0.000000</td>\n",
       "    </tr>\n",
       "    <tr>\n",
       "      <th>3</th>\n",
       "      <td>38.0</td>\n",
       "      <td>20.405792</td>\n",
       "    </tr>\n",
       "    <tr>\n",
       "      <th>4</th>\n",
       "      <td>-5.0</td>\n",
       "      <td>0.000000</td>\n",
       "    </tr>\n",
       "    <tr>\n",
       "      <th>...</th>\n",
       "      <td>...</td>\n",
       "      <td>...</td>\n",
       "    </tr>\n",
       "    <tr>\n",
       "      <th>19621</th>\n",
       "      <td>-1.0</td>\n",
       "      <td>0.000000</td>\n",
       "    </tr>\n",
       "    <tr>\n",
       "      <th>19622</th>\n",
       "      <td>11.0</td>\n",
       "      <td>0.000000</td>\n",
       "    </tr>\n",
       "    <tr>\n",
       "      <th>19623</th>\n",
       "      <td>3.0</td>\n",
       "      <td>0.000000</td>\n",
       "    </tr>\n",
       "    <tr>\n",
       "      <th>19624</th>\n",
       "      <td>-3.0</td>\n",
       "      <td>0.000000</td>\n",
       "    </tr>\n",
       "    <tr>\n",
       "      <th>19625</th>\n",
       "      <td>22.0</td>\n",
       "      <td>12.214684</td>\n",
       "    </tr>\n",
       "  </tbody>\n",
       "</table>\n",
       "<p>19626 rows × 2 columns</p>\n",
       "</div>"
      ],
      "text/plain": [
       "       Actual  Predicted\n",
       "0        24.0  38.790401\n",
       "1         3.0   0.402541\n",
       "2        -2.0   0.000000\n",
       "3        38.0  20.405792\n",
       "4        -5.0   0.000000\n",
       "...       ...        ...\n",
       "19621    -1.0   0.000000\n",
       "19622    11.0   0.000000\n",
       "19623     3.0   0.000000\n",
       "19624    -3.0   0.000000\n",
       "19625    22.0  12.214684\n",
       "\n",
       "[19626 rows x 2 columns]"
      ]
     },
     "execution_count": 18,
     "metadata": {},
     "output_type": "execute_result"
    }
   ],
   "source": [
    "zz = pd.DataFrame({'Actual': y_test.flatten(), 'Predicted': p.flatten()})\n",
    "zz\n"
   ]
  },
  {
   "cell_type": "code",
   "execution_count": null,
   "metadata": {},
   "outputs": [],
   "source": []
  }
 ],
 "metadata": {
  "kernelspec": {
   "display_name": "Python 3",
   "language": "python",
   "name": "python3"
  },
  "language_info": {
   "codemirror_mode": {
    "name": "ipython",
    "version": 3
   },
   "file_extension": ".py",
   "mimetype": "text/x-python",
   "name": "python",
   "nbconvert_exporter": "python",
   "pygments_lexer": "ipython3",
   "version": "3.11.4"
  }
 },
 "nbformat": 4,
 "nbformat_minor": 2
}
